{
 "cells": [
  {
   "cell_type": "markdown",
   "id": "53b060df-3ad7-4d7e-aef3-f5c3d5aa44f3",
   "metadata": {},
   "source": [
    "## Importing Libraries"
   ]
  },
  {
   "cell_type": "code",
   "execution_count": 87,
   "id": "1a157b60-94e1-4809-9d88-ff6418aa4472",
   "metadata": {},
   "outputs": [],
   "source": [
    "import tensorflow as tf\n",
    "import matplotlib.pyplot as plt\n",
    "import pandas as pd\n",
    "import seaborn as sns"
   ]
  },
  {
   "cell_type": "markdown",
   "id": "032b49d1-08cb-48f4-ad32-9565b59c08a2",
   "metadata": {},
   "source": [
    "## Data Preprocessing"
   ]
  },
  {
   "cell_type": "markdown",
   "id": "616701c6-bc9f-4d80-974d-ed3686292eca",
   "metadata": {},
   "source": [
    "## Training Image Preprocessing"
   ]
  },
  {
   "cell_type": "code",
   "execution_count": 88,
   "id": "e3aedd95-c1ed-421e-8c09-8da844e46db2",
   "metadata": {},
   "outputs": [
    {
     "name": "stdout",
     "output_type": "stream",
     "text": [
      "Found 70295 files belonging to 38 classes.\n"
     ]
    }
   ],
   "source": [
    "training_set = tf.keras.utils.image_dataset_from_directory(\n",
    "    'train',\n",
    "    labels=\"inferred\",\n",
    "    label_mode=\"categorical\",\n",
    "    class_names=None,\n",
    "    color_mode=\"rgb\",\n",
    "    batch_size=32,\n",
    "    image_size=(128, 128),\n",
    "    shuffle=True,\n",
    "    seed=None,\n",
    "    validation_split=None,\n",
    "    subset=None,\n",
    "    interpolation=\"bilinear\",\n",
    "    follow_links=False,\n",
    "    crop_to_aspect_ratio=False,\n",
    ")"
   ]
  },
  {
   "cell_type": "markdown",
   "id": "1f040347-425f-4dc2-af1e-ed0df5330a42",
   "metadata": {},
   "source": [
    "## Validation Image Preprocessing"
   ]
  },
  {
   "cell_type": "code",
   "execution_count": 89,
   "id": "6afd9399-5a2b-4082-bd8c-1691c5e7b97d",
   "metadata": {},
   "outputs": [
    {
     "name": "stdout",
     "output_type": "stream",
     "text": [
      "Found 17572 files belonging to 38 classes.\n"
     ]
    }
   ],
   "source": [
    "validation_set = tf.keras.utils.image_dataset_from_directory(\n",
    "    'valid',\n",
    "    labels=\"inferred\",\n",
    "    label_mode=\"categorical\",\n",
    "    class_names=None,\n",
    "    color_mode=\"rgb\",\n",
    "    batch_size=32,\n",
    "    image_size=(128, 128),\n",
    "    shuffle=True,\n",
    "    seed=None,\n",
    "    validation_split=None,\n",
    "    subset=None,\n",
    "    interpolation=\"bilinear\",\n",
    "    follow_links=False,\n",
    "    crop_to_aspect_ratio=False,\n",
    ")"
   ]
  },
  {
   "cell_type": "code",
   "execution_count": 90,
   "id": "f3fefd44-a731-4ebc-9e78-6bafb76a7e69",
   "metadata": {},
   "outputs": [
    {
     "name": "stdout",
     "output_type": "stream",
     "text": [
      "tf.Tensor(\n",
      "[[[[136.75 122.75 122.75]\n",
      "   [134.   120.   120.  ]\n",
      "   [137.5  123.5  123.5 ]\n",
      "   ...\n",
      "   [143.   131.   131.  ]\n",
      "   [151.5  139.5  139.5 ]\n",
      "   [132.75 120.75 120.75]]\n",
      "\n",
      "  [[134.75 120.75 120.75]\n",
      "   [134.25 120.25 120.25]\n",
      "   [145.25 131.25 131.25]\n",
      "   ...\n",
      "   [159.   147.   147.  ]\n",
      "   [147.   135.   135.  ]\n",
      "   [150.75 138.75 138.75]]\n",
      "\n",
      "  [[131.25 117.25 117.25]\n",
      "   [138.25 124.25 124.25]\n",
      "   [130.75 116.75 116.75]\n",
      "   ...\n",
      "   [146.5  134.5  134.5 ]\n",
      "   [150.5  138.5  138.5 ]\n",
      "   [148.   136.   136.  ]]\n",
      "\n",
      "  ...\n",
      "\n",
      "  [[156.75 148.75 146.75]\n",
      "   [181.75 173.75 171.75]\n",
      "   [175.5  167.5  165.5 ]\n",
      "   ...\n",
      "   [118.75 107.75 111.75]\n",
      "   [117.   106.   110.  ]\n",
      "   [119.25 108.25 112.25]]\n",
      "\n",
      "  [[153.75 145.75 143.75]\n",
      "   [155.   147.   145.  ]\n",
      "   [147.5  139.5  137.5 ]\n",
      "   ...\n",
      "   [ 99.75  88.75  92.75]\n",
      "   [133.75 122.75 126.75]\n",
      "   [123.5  112.5  116.5 ]]\n",
      "\n",
      "  [[159.5  151.5  149.5 ]\n",
      "   [163.   155.   153.  ]\n",
      "   [173.75 165.75 163.75]\n",
      "   ...\n",
      "   [ 99.25  88.25  92.25]\n",
      "   [110.5   99.5  103.5 ]\n",
      "   [106.75  95.75  99.75]]]\n",
      "\n",
      "\n",
      " [[[ 82.5   74.25  76.5 ]\n",
      "   [ 86.    78.5   80.  ]\n",
      "   [ 71.25  63.    65.25]\n",
      "   ...\n",
      "   [ 66.25  56.5   59.25]\n",
      "   [ 65.75  56.    58.75]\n",
      "   [ 73.    64.    66.  ]]\n",
      "\n",
      "  [[166.75 157.75 160.75]\n",
      "   [168.75 159.75 162.75]\n",
      "   [174.   165.   168.  ]\n",
      "   ...\n",
      "   [137.25 126.25 130.25]\n",
      "   [134.75 123.75 127.75]\n",
      "   [122.75 111.75 115.75]]\n",
      "\n",
      "  [[160.   151.   154.  ]\n",
      "   [147.5  138.5  141.5 ]\n",
      "   [166.   157.   160.  ]\n",
      "   ...\n",
      "   [133.75 122.75 126.75]\n",
      "   [131.   120.   124.  ]\n",
      "   [119.5  108.5  112.5 ]]\n",
      "\n",
      "  ...\n",
      "\n",
      "  [[194.   188.   192.  ]\n",
      "   [184.   178.   182.  ]\n",
      "   [181.   175.   179.  ]\n",
      "   ...\n",
      "   [168.5  159.5  162.5 ]\n",
      "   [164.5  155.5  158.5 ]\n",
      "   [150.75 141.75 144.75]]\n",
      "\n",
      "  [[181.   175.   179.  ]\n",
      "   [189.   183.   187.  ]\n",
      "   [188.75 182.75 186.75]\n",
      "   ...\n",
      "   [175.25 166.25 169.25]\n",
      "   [174.25 165.25 168.25]\n",
      "   [159.75 150.75 153.75]]\n",
      "\n",
      "  [[192.5  186.5  190.5 ]\n",
      "   [190.75 184.75 188.75]\n",
      "   [183.75 177.75 181.75]\n",
      "   ...\n",
      "   [173.   164.   167.  ]\n",
      "   [168.5  159.5  162.5 ]\n",
      "   [164.   155.   158.  ]]]\n",
      "\n",
      "\n",
      " [[[ 96.75  88.75  86.75]\n",
      "   [ 96.    88.    86.  ]\n",
      "   [ 96.5   88.5   86.5 ]\n",
      "   ...\n",
      "   [136.25 125.25 129.25]\n",
      "   [138.75 127.75 131.75]\n",
      "   [139.5  128.5  132.5 ]]\n",
      "\n",
      "  [[ 97.25  89.25  87.25]\n",
      "   [ 99.75  91.75  89.75]\n",
      "   [100.25  92.25  90.25]\n",
      "   ...\n",
      "   [135.   124.   128.  ]\n",
      "   [137.25 126.25 130.25]\n",
      "   [137.25 126.25 130.25]]\n",
      "\n",
      "  [[ 96.25  88.25  86.25]\n",
      "   [ 98.25  90.25  88.25]\n",
      "   [ 99.25  91.25  89.25]\n",
      "   ...\n",
      "   [137.5  126.5  130.5 ]\n",
      "   [139.   128.   132.  ]\n",
      "   [138.25 127.25 131.25]]\n",
      "\n",
      "  ...\n",
      "\n",
      "  [[ 79.    69.    80.  ]\n",
      "   [ 73.25  63.25  74.25]\n",
      "   [ 76.25  66.25  77.25]\n",
      "   ...\n",
      "   [126.   116.   127.  ]\n",
      "   [124.75 114.75 125.75]\n",
      "   [127.25 117.25 128.25]]\n",
      "\n",
      "  [[ 77.5   67.5   78.5 ]\n",
      "   [ 75.5   65.5   76.5 ]\n",
      "   [ 81.    71.    82.  ]\n",
      "   ...\n",
      "   [125.75 115.75 126.75]\n",
      "   [120.   110.   121.  ]\n",
      "   [127.   117.   128.  ]]\n",
      "\n",
      "  [[ 74.75  64.75  75.75]\n",
      "   [ 72.    62.    73.  ]\n",
      "   [ 81.75  71.75  82.75]\n",
      "   ...\n",
      "   [116.25 106.25 117.25]\n",
      "   [112.75 102.75 113.75]\n",
      "   [126.   116.   127.  ]]]\n",
      "\n",
      "\n",
      " ...\n",
      "\n",
      "\n",
      " [[[154.   127.75 139.  ]\n",
      "   [150.   126.   131.25]\n",
      "   [143.25 121.75 116.  ]\n",
      "   ...\n",
      "   [178.5  169.5  174.5 ]\n",
      "   [173.75 164.75 169.75]\n",
      "   [176.25 167.25 172.25]]\n",
      "\n",
      "  [[141.   125.25 125.5 ]\n",
      "   [146.75 133.75 128.25]\n",
      "   [143.25 133.75 119.  ]\n",
      "   ...\n",
      "   [179.5  170.5  175.5 ]\n",
      "   [175.5  166.5  171.5 ]\n",
      "   [173.5  164.5  169.5 ]]\n",
      "\n",
      "  [[135.5  129.75 122.5 ]\n",
      "   [134.75 130.75 117.75]\n",
      "   [ 78.75  79.5   56.75]\n",
      "   ...\n",
      "   [183.75 174.75 179.75]\n",
      "   [180.25 171.25 176.25]\n",
      "   [177.75 168.75 173.75]]\n",
      "\n",
      "  ...\n",
      "\n",
      "  [[107.25  96.25  94.25]\n",
      "   [110.    99.    97.  ]\n",
      "   [106.    95.    93.  ]\n",
      "   ...\n",
      "   [114.   116.    90.25]\n",
      "   [126.5  115.   110.25]\n",
      "   [115.75  95.25 106.25]]\n",
      "\n",
      "  [[106.25  95.25  93.25]\n",
      "   [106.75  95.75  93.75]\n",
      "   [106.25  95.25  93.25]\n",
      "   ...\n",
      "   [116.5  114.    91.25]\n",
      "   [111.5  100.25  99.  ]\n",
      "   [123.25 106.   119.75]]\n",
      "\n",
      "  [[104.25  93.25  91.25]\n",
      "   [108.5   97.5   95.5 ]\n",
      "   [105.75  94.75  92.75]\n",
      "   ...\n",
      "   [ 80.5   74.5   54.25]\n",
      "   [117.75 105.75 107.75]\n",
      "   [117.   102.75 119.25]]]\n",
      "\n",
      "\n",
      " [[[120.75  94.75  77.75]\n",
      "   [114.5   88.5   71.5 ]\n",
      "   [138.   112.    95.  ]\n",
      "   ...\n",
      "   [137.   109.    95.  ]\n",
      "   [130.25 102.25  88.25]\n",
      "   [134.5  106.5   92.5 ]]\n",
      "\n",
      "  [[127.75 101.75  84.75]\n",
      "   [127.25 101.25  84.25]\n",
      "   [132.25 106.25  89.25]\n",
      "   ...\n",
      "   [132.   106.    91.  ]\n",
      "   [136.75 110.75  95.75]\n",
      "   [128.75 102.75  87.75]]\n",
      "\n",
      "  [[135.   109.    92.  ]\n",
      "   [121.5   95.5   78.5 ]\n",
      "   [139.5  113.5   96.5 ]\n",
      "   ...\n",
      "   [136.   110.    95.  ]\n",
      "   [140.75 114.75  99.75]\n",
      "   [139.25 113.25  98.25]]\n",
      "\n",
      "  ...\n",
      "\n",
      "  [[180.   171.   162.  ]\n",
      "   [185.75 176.75 167.75]\n",
      "   [186.25 177.25 168.25]\n",
      "   ...\n",
      "   [193.   185.   174.  ]\n",
      "   [198.25 190.25 179.25]\n",
      "   [189.   181.   170.  ]]\n",
      "\n",
      "  [[185.25 176.25 167.25]\n",
      "   [185.   176.   167.  ]\n",
      "   [184.5  175.5  166.5 ]\n",
      "   ...\n",
      "   [193.75 185.75 174.75]\n",
      "   [196.5  188.5  177.5 ]\n",
      "   [194.   186.   175.  ]]\n",
      "\n",
      "  [[185.75 176.75 167.75]\n",
      "   [184.   175.   166.  ]\n",
      "   [192.5  183.5  174.5 ]\n",
      "   ...\n",
      "   [188.   180.   169.  ]\n",
      "   [182.75 174.75 163.75]\n",
      "   [193.5  185.5  174.5 ]]]\n",
      "\n",
      "\n",
      " [[[136.75 131.75 127.75]\n",
      "   [139.25 134.25 130.25]\n",
      "   [123.5  118.5  114.5 ]\n",
      "   ...\n",
      "   [151.   150.   146.  ]\n",
      "   [124.25 123.25 119.25]\n",
      "   [131.75 130.75 126.75]]\n",
      "\n",
      "  [[149.75 144.75 140.75]\n",
      "   [137.25 132.25 128.25]\n",
      "   [141.25 136.25 132.25]\n",
      "   ...\n",
      "   [179.5  178.5  174.5 ]\n",
      "   [170.25 169.25 165.25]\n",
      "   [151.75 150.75 146.75]]\n",
      "\n",
      "  [[147.25 142.25 138.25]\n",
      "   [163.   158.   154.  ]\n",
      "   [128.5  123.5  119.5 ]\n",
      "   ...\n",
      "   [177.   176.   172.  ]\n",
      "   [180.25 179.25 175.25]\n",
      "   [175.25 174.25 170.25]]\n",
      "\n",
      "  ...\n",
      "\n",
      "  [[119.   110.   103.  ]\n",
      "   [130.5  121.5  114.5 ]\n",
      "   [138.75 129.75 122.75]\n",
      "   ...\n",
      "   [155.5  148.5  142.5 ]\n",
      "   [153.5  146.5  140.5 ]\n",
      "   [157.   150.   144.  ]]\n",
      "\n",
      "  [[129.5  120.5  113.5 ]\n",
      "   [114.75 105.75  98.75]\n",
      "   [121.   112.   105.  ]\n",
      "   ...\n",
      "   [161.   154.   148.  ]\n",
      "   [163.   156.   150.  ]\n",
      "   [159.25 152.25 146.25]]\n",
      "\n",
      "  [[122.5  113.5  106.5 ]\n",
      "   [113.75 104.75  97.75]\n",
      "   [124.25 115.25 108.25]\n",
      "   ...\n",
      "   [157.5  150.5  144.5 ]\n",
      "   [166.75 159.75 153.75]\n",
      "   [159.5  152.5  146.5 ]]]], shape=(32, 128, 128, 3), dtype=float32) (32, 128, 128, 3)\n",
      "tf.Tensor(\n",
      "[[0. 0. 0. ... 0. 0. 0.]\n",
      " [0. 0. 0. ... 0. 0. 0.]\n",
      " [0. 0. 0. ... 0. 0. 0.]\n",
      " ...\n",
      " [0. 0. 0. ... 0. 0. 0.]\n",
      " [0. 0. 0. ... 0. 0. 0.]\n",
      " [0. 0. 0. ... 0. 0. 0.]], shape=(32, 38), dtype=float32) (32, 38)\n"
     ]
    }
   ],
   "source": [
    "for x,y in training_set:\n",
    "    print(x,x.shape)\n",
    "    print(y,y.shape)\n",
    "    break"
   ]
  },
  {
   "cell_type": "markdown",
   "id": "161b2acc-7faa-43f6-b127-8b3a40b34aa9",
   "metadata": {},
   "source": [
    "## To avoid overshooting\n",
    "1. Choose small learning rate default being 0.001, we can take 0.0001\n",
    "2. There may be chances of underfitting, so increase the the number of neuron.\n",
    "3. Add more Convolution layer to extract more features from images may be possibility  "
   ]
  },
  {
   "cell_type": "markdown",
   "id": "06bcb819-f932-4a89-a56d-e9c9484fbd17",
   "metadata": {},
   "source": [
    "## Building Model"
   ]
  },
  {
   "cell_type": "code",
   "execution_count": 91,
   "id": "a2d4d8c0-ae74-4abb-8563-6cfd6972491e",
   "metadata": {},
   "outputs": [],
   "source": [
    "from tensorflow.keras.layers import Dense, Conv2D, MaxPool2D, Flatten, Dropout\n",
    "from tensorflow.keras.models import Sequential\n"
   ]
  },
  {
   "cell_type": "code",
   "execution_count": 92,
   "id": "1ef7108e-6f3f-4f7e-b590-c79e8dbbce9b",
   "metadata": {},
   "outputs": [],
   "source": [
    "model = Sequential()"
   ]
  },
  {
   "cell_type": "code",
   "execution_count": 93,
   "id": "c92c881b-8f73-4a40-8acf-2e7d3e833919",
   "metadata": {},
   "outputs": [],
   "source": [
    "#Building convolution layer\n",
    "model.add(Conv2D(filters=32, kernel_size=3, padding='same', activation='relu'))\n",
    "model.add(Conv2D(filters=32, kernel_size=3, activation='relu'))\n",
    "model.add(MaxPool2D(pool_size=2,strides=2))"
   ]
  },
  {
   "cell_type": "code",
   "execution_count": 94,
   "id": "3c9ba2de-8a1a-4104-b9ca-405867ce12a3",
   "metadata": {},
   "outputs": [],
   "source": [
    "model.add(Conv2D(filters=64, kernel_size=3, padding='same', activation='relu', input_shape=[128,128,3]))\n",
    "model.add(Conv2D(filters=64, kernel_size=3, activation='relu'))\n",
    "model.add(MaxPool2D(pool_size=2,strides=2))"
   ]
  },
  {
   "cell_type": "code",
   "execution_count": 95,
   "id": "1c6c96c2-2685-4aff-9983-bc1d72a96e8d",
   "metadata": {},
   "outputs": [],
   "source": [
    "model.add(Conv2D(filters=128, kernel_size=3, padding='same', activation='relu', input_shape=[128,128,3]))\n",
    "model.add(Conv2D(filters=128, kernel_size=3, activation='relu'))\n",
    "model.add(MaxPool2D(pool_size=2,strides=2))"
   ]
  },
  {
   "cell_type": "code",
   "execution_count": 96,
   "id": "0edb7957-f3a4-4b51-ab0b-d9a159659732",
   "metadata": {},
   "outputs": [],
   "source": [
    "model.add(Conv2D(filters=256, kernel_size=3, padding='same', activation='relu', input_shape=[128,128,3]))\n",
    "model.add(Conv2D(filters=256, kernel_size=3, activation='relu'))\n",
    "model.add(MaxPool2D(pool_size=2,strides=2))"
   ]
  },
  {
   "cell_type": "code",
   "execution_count": 97,
   "id": "bffdf6f8",
   "metadata": {},
   "outputs": [],
   "source": [
    "model.add(Conv2D(filters=512, kernel_size=3, padding='same', activation='relu', input_shape=[128,128,3]))\n",
    "model.add(Conv2D(filters=512, kernel_size=3, activation='relu'))\n",
    "model.add(MaxPool2D(pool_size=2,strides=2))"
   ]
  },
  {
   "cell_type": "code",
   "execution_count": 98,
   "id": "dc7bdad9",
   "metadata": {},
   "outputs": [],
   "source": [
    "model.add(Dropout(0.25)) # to avoid overfitting"
   ]
  },
  {
   "cell_type": "code",
   "execution_count": 99,
   "id": "997cbb84-3445-47bc-9587-2eaca084d012",
   "metadata": {},
   "outputs": [],
   "source": [
    "model.add(Flatten())"
   ]
  },
  {
   "cell_type": "code",
   "execution_count": 100,
   "id": "6fb627d8-c252-4476-b528-939be23d6472",
   "metadata": {},
   "outputs": [],
   "source": [
    "model.add(Dense(units=1500,activation='relu'))"
   ]
  },
  {
   "cell_type": "code",
   "execution_count": 101,
   "id": "e2701e52",
   "metadata": {},
   "outputs": [],
   "source": [
    "model.add(Dropout(0.4))"
   ]
  },
  {
   "cell_type": "code",
   "execution_count": 102,
   "id": "4a84e8b9-0c01-417c-8100-3c2e73101f1d",
   "metadata": {},
   "outputs": [],
   "source": [
    "#Output Layer\n",
    "model.add(Dense(units=38, activation='softmax'))"
   ]
  },
  {
   "cell_type": "markdown",
   "id": "4401b5fd-64b6-43cf-91b7-35bbea2828e3",
   "metadata": {},
   "source": [
    "## Compiling Model"
   ]
  },
  {
   "cell_type": "code",
   "execution_count": null,
   "id": "5f3e8a63",
   "metadata": {},
   "outputs": [
    {
     "name": "stdout",
     "output_type": "stream",
     "text": [
      "Model: \"sequential_4\"\n",
      "_________________________________________________________________\n",
      " Layer (type)                Output Shape              Param #   \n",
      "=================================================================\n",
      " conv2d_30 (Conv2D)          (None, 128, 128, 32)      896       \n",
      "                                                                 \n",
      " conv2d_31 (Conv2D)          (None, 126, 126, 32)      9248      \n",
      "                                                                 \n",
      " max_pooling2d_15 (MaxPoolin  (None, 63, 63, 32)       0         \n",
      " g2D)                                                            \n",
      "                                                                 \n",
      " conv2d_32 (Conv2D)          (None, 63, 63, 64)        18496     \n",
      "                                                                 \n",
      " conv2d_33 (Conv2D)          (None, 61, 61, 64)        36928     \n",
      "                                                                 \n",
      " max_pooling2d_16 (MaxPoolin  (None, 30, 30, 64)       0         \n",
      " g2D)                                                            \n",
      "                                                                 \n",
      " conv2d_34 (Conv2D)          (None, 30, 30, 128)       73856     \n",
      "                                                                 \n",
      " conv2d_35 (Conv2D)          (None, 28, 28, 128)       147584    \n",
      "                                                                 \n",
      " max_pooling2d_17 (MaxPoolin  (None, 14, 14, 128)      0         \n",
      " g2D)                                                            \n",
      "                                                                 \n",
      " conv2d_36 (Conv2D)          (None, 14, 14, 256)       295168    \n",
      "                                                                 \n",
      " conv2d_37 (Conv2D)          (None, 12, 12, 256)       590080    \n",
      "                                                                 \n",
      " max_pooling2d_18 (MaxPoolin  (None, 6, 6, 256)        0         \n",
      " g2D)                                                            \n",
      "                                                                 \n",
      " conv2d_38 (Conv2D)          (None, 6, 6, 512)         1180160   \n",
      "                                                                 \n",
      " conv2d_39 (Conv2D)          (None, 4, 4, 512)         2359808   \n",
      "                                                                 \n",
      " max_pooling2d_19 (MaxPoolin  (None, 2, 2, 512)        0         \n",
      " g2D)                                                            \n",
      "                                                                 \n",
      " dropout_6 (Dropout)         (None, 2, 2, 512)         0         \n",
      "                                                                 \n",
      " flatten_3 (Flatten)         (None, 2048)              0         \n",
      "                                                                 \n",
      " dense_6 (Dense)             (None, 1500)              3073500   \n",
      "                                                                 \n",
      " dropout_7 (Dropout)         (None, 1500)              0         \n",
      "                                                                 \n",
      " dense_7 (Dense)             (None, 38)                57038     \n",
      "                                                                 \n",
      "=================================================================\n",
      "Total params: 7,842,762\n",
      "Trainable params: 7,842,762\n",
      "Non-trainable params: 0\n",
      "_________________________________________________________________\n"
     ]
    }
   ],
   "source": [
    "model.compile(optimizer= tf.keras.optimizers.Adam(\n",
    "    learning_rate=0.0001), loss= 'categorical_crossentropy', metrics= ['accuracy'])\n",
    "model.summary()"
   ]
  },
  {
   "cell_type": "markdown",
   "id": "55e3539b-a092-4ec0-bee8-15dab0e580c7",
   "metadata": {},
   "source": [
    "## Model Training"
   ]
  },
  {
   "cell_type": "code",
   "execution_count": 106,
   "id": "3e2274c3-2086-4efa-a61f-ea2622d3bf36",
   "metadata": {},
   "outputs": [
    {
     "name": "stdout",
     "output_type": "stream",
     "text": [
      "Epoch 1/10\n",
      "2197/2197 [==============================] - 1958s 891ms/step - loss: 1.3673 - accuracy: 0.5979 - val_loss: 0.5082 - val_accuracy: 0.8388\n",
      "Epoch 2/10\n",
      "2197/2197 [==============================] - 1886s 858ms/step - loss: 0.4363 - accuracy: 0.8596 - val_loss: 0.3667 - val_accuracy: 0.8860\n",
      "Epoch 3/10\n",
      "2197/2197 [==============================] - 1946s 886ms/step - loss: 0.2626 - accuracy: 0.9159 - val_loss: 0.2514 - val_accuracy: 0.9198\n",
      "Epoch 4/10\n",
      "2197/2197 [==============================] - 1986s 904ms/step - loss: 0.1792 - accuracy: 0.9422 - val_loss: 0.1628 - val_accuracy: 0.9461\n",
      "Epoch 5/10\n",
      "2197/2197 [==============================] - 19937s 9s/step - loss: 0.1359 - accuracy: 0.9558 - val_loss: 0.1848 - val_accuracy: 0.9428\n",
      "Epoch 6/10\n",
      "2197/2197 [==============================] - 1806s 822ms/step - loss: 0.1037 - accuracy: 0.9653 - val_loss: 0.1219 - val_accuracy: 0.9617\n",
      "Epoch 7/10\n",
      "2197/2197 [==============================] - 1821s 829ms/step - loss: 0.0861 - accuracy: 0.9716 - val_loss: 0.1441 - val_accuracy: 0.9554\n",
      "Epoch 8/10\n",
      "2197/2197 [==============================] - 1817s 827ms/step - loss: 0.0741 - accuracy: 0.9756 - val_loss: 0.1232 - val_accuracy: 0.9607\n",
      "Epoch 9/10\n",
      "2197/2197 [==============================] - 1824s 830ms/step - loss: 0.0618 - accuracy: 0.9798 - val_loss: 0.1646 - val_accuracy: 0.9552\n",
      "Epoch 10/10\n",
      "2197/2197 [==============================] - 1837s 836ms/step - loss: 0.0561 - accuracy: 0.9821 - val_loss: 0.1674 - val_accuracy: 0.9541\n"
     ]
    }
   ],
   "source": [
    "training_history= model.fit(x = training_set, validation_data =validation_set, epochs=10)"
   ]
  },
  {
   "cell_type": "markdown",
   "id": "ab81a7e0",
   "metadata": {},
   "source": [
    "## Model Evaluation"
   ]
  },
  {
   "cell_type": "code",
   "execution_count": 111,
   "id": "abe63455",
   "metadata": {},
   "outputs": [
    {
     "name": "stdout",
     "output_type": "stream",
     "text": [
      "2197/2197 [==============================] - 442s 201ms/step - loss: 0.0559 - accuracy: 0.9829\n"
     ]
    }
   ],
   "source": [
    "#model Evaluation on training set\n",
    "train_loss, train_acc = model.evaluate(training_set)"
   ]
  },
  {
   "cell_type": "code",
   "execution_count": 112,
   "id": "4087a78e",
   "metadata": {},
   "outputs": [
    {
     "data": {
      "text/plain": [
       "(0.05585525184869766, 0.9829291105270386)"
      ]
     },
     "execution_count": 112,
     "metadata": {},
     "output_type": "execute_result"
    }
   ],
   "source": [
    "train_loss, train_acc"
   ]
  },
  {
   "cell_type": "code",
   "execution_count": 113,
   "id": "c7d7e2de",
   "metadata": {},
   "outputs": [
    {
     "name": "stdout",
     "output_type": "stream",
     "text": [
      "550/550 [==============================] - 109s 199ms/step - loss: 0.1674 - accuracy: 0.9541\n"
     ]
    }
   ],
   "source": [
    "#model Evaluation on validation set\n",
    "val_loss, val_acc = model.evaluate(validation_set)"
   ]
  },
  {
   "cell_type": "code",
   "execution_count": 114,
   "id": "d1319cc5",
   "metadata": {},
   "outputs": [
    {
     "name": "stdout",
     "output_type": "stream",
     "text": [
      "0.1674237996339798 0.9540746808052063\n"
     ]
    }
   ],
   "source": [
    "print(val_loss, val_acc)"
   ]
  },
  {
   "cell_type": "code",
   "execution_count": 116,
   "id": "6f064605",
   "metadata": {},
   "outputs": [],
   "source": [
    "model.save(\"trained_model.keras\")"
   ]
  },
  {
   "cell_type": "code",
   "execution_count": 117,
   "id": "98174088",
   "metadata": {},
   "outputs": [
    {
     "data": {
      "text/plain": [
       "{'loss': [1.3673256635665894,\n",
       "  0.43633177876472473,\n",
       "  0.26256054639816284,\n",
       "  0.17921225726604462,\n",
       "  0.13588948547840118,\n",
       "  0.10370029509067535,\n",
       "  0.0860968753695488,\n",
       "  0.07405951619148254,\n",
       "  0.06183944642543793,\n",
       "  0.056116361171007156],\n",
       " 'accuracy': [0.5978946089744568,\n",
       "  0.8596486449241638,\n",
       "  0.9159257411956787,\n",
       "  0.9421722888946533,\n",
       "  0.9558290243148804,\n",
       "  0.9652606844902039,\n",
       "  0.9716480374336243,\n",
       "  0.9756312966346741,\n",
       "  0.9797709584236145,\n",
       "  0.982146680355072],\n",
       " 'val_loss': [0.5082204937934875,\n",
       "  0.3667379319667816,\n",
       "  0.25135451555252075,\n",
       "  0.16277100145816803,\n",
       "  0.18475593626499176,\n",
       "  0.12191461771726608,\n",
       "  0.1441044807434082,\n",
       "  0.12319464981555939,\n",
       "  0.16458432376384735,\n",
       "  0.16742374002933502],\n",
       " 'val_accuracy': [0.8387776017189026,\n",
       "  0.8859549164772034,\n",
       "  0.9198155999183655,\n",
       "  0.9460505247116089,\n",
       "  0.9428067207336426,\n",
       "  0.961700439453125,\n",
       "  0.9554404616355896,\n",
       "  0.9607329964637756,\n",
       "  0.9552128314971924,\n",
       "  0.9540746808052063]}"
      ]
     },
     "execution_count": 117,
     "metadata": {},
     "output_type": "execute_result"
    }
   ],
   "source": [
    "training_history.history"
   ]
  },
  {
   "cell_type": "code",
   "execution_count": 118,
   "id": "66f5f4f8",
   "metadata": {},
   "outputs": [],
   "source": [
    "#Recording history in json.\n",
    "import json\n",
    "with open(\"train_history.json\", \"w\") as f:\n",
    "    json.dump(training_history.history,f)"
   ]
  },
  {
   "cell_type": "markdown",
   "id": "73ee32b4",
   "metadata": {},
   "source": [
    "## Accuracy Visualization"
   ]
  },
  {
   "cell_type": "code",
   "execution_count": 119,
   "id": "1a33f701",
   "metadata": {},
   "outputs": [
    {
     "data": {
      "image/png": "[encoded data removed]",
      "text/plain": [
       "<Figure size 640x480 with 1 Axes>"
      ]
     },
     "metadata": {},
     "output_type": "display_data"
    }
   ],
   "source": [
    "epochs= [i for i in range (1,11)]\n",
    "plt.plot(epochs, training_history.history['accuracy'], color= 'red',label= 'Training accuracy')\n",
    "plt.plot(epochs, training_history.history['val_accuracy'], color= 'green', label= 'validation accuracy')\n",
    "plt.xlabel(\"No. of Epochs/turns, model training was run\")\n",
    "plt.ylabel(\"Accuracy Result\")\n",
    "plt.title(\"Visualization of Accuracy Result\")\n",
    "plt.legend()\n",
    "plt.show()"
   ]
  },
  {
   "cell_type": "markdown",
   "id": "46a49e87",
   "metadata": {},
   "source": [
    "## Some other metrics for model evaluation"
   ]
  },
  {
   "cell_type": "code",
   "execution_count": 120,
   "id": "e909821d",
   "metadata": {},
   "outputs": [
    {
     "data": {
      "text/plain": [
       "['Apple___Apple_scab',\n",
       " 'Apple___Black_rot',\n",
       " 'Apple___Cedar_apple_rust',\n",
       " 'Apple___healthy',\n",
       " 'Blueberry___healthy',\n",
       " 'Cherry_(including_sour)___Powdery_mildew',\n",
       " 'Cherry_(including_sour)___healthy',\n",
       " 'Corn_(maize)___Cercospora_leaf_spot Gray_leaf_spot',\n",
       " 'Corn_(maize)___Common_rust_',\n",
       " 'Corn_(maize)___Northern_Leaf_Blight',\n",
       " 'Corn_(maize)___healthy',\n",
       " 'Grape___Black_rot',\n",
       " 'Grape___Esca_(Black_Measles)',\n",
       " 'Grape___Leaf_blight_(Isariopsis_Leaf_Spot)',\n",
       " 'Grape___healthy',\n",
       " 'Orange___Haunglongbing_(Citrus_greening)',\n",
       " 'Peach___Bacterial_spot',\n",
       " 'Peach___healthy',\n",
       " 'Pepper,_bell___Bacterial_spot',\n",
       " 'Pepper,_bell___healthy',\n",
       " 'Potato___Early_blight',\n",
       " 'Potato___Late_blight',\n",
       " 'Potato___healthy',\n",
       " 'Raspberry___healthy',\n",
       " 'Soybean___healthy',\n",
       " 'Squash___Powdery_mildew',\n",
       " 'Strawberry___Leaf_scorch',\n",
       " 'Strawberry___healthy',\n",
       " 'Tomato___Bacterial_spot',\n",
       " 'Tomato___Early_blight',\n",
       " 'Tomato___Late_blight',\n",
       " 'Tomato___Leaf_Mold',\n",
       " 'Tomato___Septoria_leaf_spot',\n",
       " 'Tomato___Spider_mites Two-spotted_spider_mite',\n",
       " 'Tomato___Target_Spot',\n",
       " 'Tomato___Tomato_Yellow_Leaf_Curl_Virus',\n",
       " 'Tomato___Tomato_mosaic_virus',\n",
       " 'Tomato___healthy']"
      ]
     },
     "execution_count": 120,
     "metadata": {},
     "output_type": "execute_result"
    }
   ],
   "source": [
    "class_name = validation_set.class_names\n",
    "class_name"
   ]
  },
  {
   "cell_type": "code",
   "execution_count": 37,
   "id": "5a129efe",
   "metadata": {},
   "outputs": [
    {
     "name": "stdout",
     "output_type": "stream",
     "text": [
      "Found 17572 files belonging to 38 classes.\n"
     ]
    }
   ],
   "source": [
    "test_set= tf.keras.utils.image_dataset_from_directory(\n",
    "    'valid',\n",
    "    labels=\"inferred\",\n",
    "    label_mode=\"categorical\",\n",
    "    class_names=None,\n",
    "    color_mode=\"rgb\",\n",
    "    batch_size=32,\n",
    "    image_size=(128, 128),\n",
    "    shuffle=False,\n",
    "    seed=None,\n",
    "    validation_split=None,\n",
    "    subset=None,\n",
    "    interpolation=\"bilinear\",\n",
    "    follow_links=False,\n",
    "    crop_to_aspect_ratio=False,\n",
    ")"
   ]
  },
  {
   "cell_type": "code",
   "execution_count": 38,
   "id": "2904a76d",
   "metadata": {},
   "outputs": [
    {
     "name": "stdout",
     "output_type": "stream",
     "text": [
      "550/550 [==============================] - 121s 221ms/step\n"
     ]
    },
    {
     "data": {
      "text/plain": [
       "(array([[0.02713552, 0.02551844, 0.02968851, ..., 0.02651452, 0.03126735,\n",
       "         0.02218444],\n",
       "        [0.02683543, 0.0257463 , 0.02936447, ..., 0.02632296, 0.03238912,\n",
       "         0.02172782],\n",
       "        [0.02673881, 0.02616088, 0.03122997, ..., 0.02583077, 0.03133973,\n",
       "         0.02235992],\n",
       "        ...,\n",
       "        [0.02782236, 0.02576169, 0.02872183, ..., 0.02591747, 0.03114465,\n",
       "         0.02301334],\n",
       "        [0.02797103, 0.02534499, 0.0290874 , ..., 0.02576476, 0.03063201,\n",
       "         0.02366012],\n",
       "        [0.02518351, 0.02404164, 0.02982502, ..., 0.02587106, 0.03390642,\n",
       "         0.01987679]], dtype=float32),\n",
       " (17572, 38))"
      ]
     },
     "execution_count": 38,
     "metadata": {},
     "output_type": "execute_result"
    }
   ],
   "source": [
    "y_pred= model.predict(test_set)\n",
    "y_pred, y_pred.shape"
   ]
  },
  {
   "cell_type": "code",
   "execution_count": 122,
   "id": "11322bc8",
   "metadata": {},
   "outputs": [],
   "source": [
    "predicted_categories = tf.argmax(y_pred,axis=1)"
   ]
  },
  {
   "cell_type": "code",
   "execution_count": null,
   "id": "2b7f9d37",
   "metadata": {},
   "outputs": [],
   "source": []
  }
 ],
 "metadata": {
  "kernelspec": {
   "display_name": "Python 3 (ipykernel)",
   "language": "python",
   "name": "python3"
  },
  "language_info": {
   "codemirror_mode": {
    "name": "ipython",
    "version": 3
   },
   "file_extension": ".py",
   "mimetype": "text/x-python",
   "name": "python",
   "nbconvert_exporter": "python",
   "pygments_lexer": "ipython3",
   "version": "3.10.13"
  }
 },
 "nbformat": 4,
 "nbformat_minor": 5
}
